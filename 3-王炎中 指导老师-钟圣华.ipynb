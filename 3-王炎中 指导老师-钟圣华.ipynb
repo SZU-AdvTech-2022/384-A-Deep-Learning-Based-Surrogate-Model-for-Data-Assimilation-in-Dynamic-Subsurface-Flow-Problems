{
 "metadata": {
  "kernelspec": {
   "language": "python",
   "display_name": "Python 3",
   "name": "python3"
  },
  "language_info": {
   "name": "python",
   "version": "3.7.9",
   "mimetype": "text/x-python",
   "codemirror_mode": {
    "name": "ipython",
    "version": 3
   },
   "pygments_lexer": "ipython3",
   "nbconvert_exporter": "python",
   "file_extension": ".py"
  }
 },
 "nbformat_minor": 4,
 "nbformat": 4,
 "cells": [
  {
   "cell_type": "code",
   "source": [
    "# This Python 3 environment comes with many helpful analytics libraries installed\n",
    "# It is defined by the kaggle/python Docker image: https://github.com/kaggle/docker-python\n",
    "# For example, here's several helpful packages to load\n",
    "\n",
    "import h5py\n",
    "import argparse\n",
    "import pickle\n",
    "import numpy as np\n",
    "from time import time\n",
    "import tensorflow as tf\n",
    "import matplotlib.pyplot as plt\n",
    "from keras.models import load_model\n",
    "from keras.callbacks import ReduceLROnPlateau, ModelCheckpoint\n",
    "\n",
    "print('Tensorflow version ' + tf.__version__)\n",
    "\n",
    "# Input data files are available in the read-only \"../input/\" directory\n",
    "# For example, running this (by clicking run or pressing Shift+Enter) will list all files under the input directory\n",
    "\n",
    "import os\n",
    "for dirname, _, filenames in os.walk('/kaggle/input'):\n",
    "    for filename in filenames:\n",
    "        print(os.path.join(dirname, filename))\n",
    "        \n",
    "# You can write up to 20GB to the current directory (/kaggle/working/) that gets preserved as output when you create a version using \"Save & Run All\" \n",
    "# You can also write temporary files to /kaggle/temp/, but they won't be saved outside of the current session"
   ],
   "metadata": {
    "_uuid": "8f2839f25d086af736a60e9eeb907d3b93b6e0e5",
    "_cell_guid": "b1076dfc-b9ad-4769-8c92-a6c4dae69d19",
    "execution": {
     "iopub.status.busy": "2022-11-22T01:30:06.910546Z",
     "iopub.execute_input": "2022-11-22T01:30:06.910992Z",
     "iopub.status.idle": "2022-11-22T01:30:06.922521Z",
     "shell.execute_reply.started": "2022-11-22T01:30:06.910949Z",
     "shell.execute_reply": "2022-11-22T01:30:06.921479Z"
    },
    "trusted": true
   },
   "execution_count": 19,
   "outputs": [
    {
     "name": "stdout",
     "text": "Tensorflow version 2.4.1\n/kaggle/input/dataset-course/Dataset Course 200 perm.h5\n/kaggle/input/dataset-course/Dataset Course logk residual.h5\n/kaggle/input/dataset-course/Dataset Course.h5\n",
     "output_type": "stream"
    }
   ]
  },
  {
   "cell_type": "markdown",
   "source": [
    "# 连接tpu，并将模型放在tpu上训练，能极大的提升网络的训练速度"
   ],
   "metadata": {}
  },
  {
   "cell_type": "code",
   "source": [
    "try:\n",
    "    tpu = tf.distribute.cluster_resolver.TPUClusterResolver.connect()\n",
    "    strategy = tf.distribute.experimental.TPUStrategy(tpu)\n",
    "    print(tpu)\n",
    "    print(strategy)\n",
    "    # print(strategy.num_replicas_in_sync)\n",
    "except ValueError:\n",
    "    strategy = tf.distribute.MirroredStrategy() # for GPU or multi-GPU machines\n",
    "    #strategy = tf.distribute.get_strategy() # default strategy that works on CPU and single GPU\n",
    "    #strategy = tf.distribute.experimental.MultiWorkerMirroredStrategy() # for clusters of multi-GPU machines\n",
    "    \n",
    "print(\"Number of accelerators: \", strategy.num_replicas_in_sync)"
   ],
   "metadata": {
    "execution": {
     "iopub.status.busy": "2022-11-22T01:30:06.925056Z",
     "iopub.execute_input": "2022-11-22T01:30:06.925390Z",
     "iopub.status.idle": "2022-11-22T01:30:06.938105Z",
     "shell.execute_reply.started": "2022-11-22T01:30:06.925356Z",
     "shell.execute_reply": "2022-11-22T01:30:06.937115Z"
    },
    "trusted": true
   },
   "execution_count": 20,
   "outputs": [
    {
     "name": "stdout",
     "text": "Number of accelerators:  1\n",
     "output_type": "stream"
    }
   ]
  },
  {
   "cell_type": "code",
   "source": [
    "parser = argparse.ArgumentParser(description='Rucurrent_R_U_Net')\n",
    "parser.add_argument('--epoch', type=int, default=80, help='the number of epochs to train')\n",
    "parser.add_argument('--batch_size', type=int, default=30)\n",
    "parser.add_argument('--data_format', type=str, default='channels_last')\n",
    "parser.add_argument('--regularizer_weight', type=float, default=0, help='the regularization coefficient')\n",
    "args = parser.parse_known_args()[0]\n",
    "\n",
    "print('---------------------Arguments----------------------')\n",
    "for k, v in sorted(vars(args).items()):\n",
    "    print('%s: %s' % (str(k), str(v)))\n",
    "print('------------------------End-------------------------')"
   ],
   "metadata": {
    "execution": {
     "iopub.status.busy": "2022-11-22T01:30:06.939500Z",
     "iopub.execute_input": "2022-11-22T01:30:06.940076Z",
     "iopub.status.idle": "2022-11-22T01:30:06.952054Z",
     "shell.execute_reply.started": "2022-11-22T01:30:06.940041Z",
     "shell.execute_reply": "2022-11-22T01:30:06.951006Z"
    },
    "trusted": true
   },
   "execution_count": 21,
   "outputs": [
    {
     "name": "stdout",
     "text": "---------------------Arguments----------------------\nbatch_size: 30\ndata_format: channels_last\nepoch: 80\nregularizer_weight: 0\n------------------------End-------------------------\n",
     "output_type": "stream"
    }
   ]
  },
  {
   "cell_type": "markdown",
   "source": [
    "# Define network model "
   ],
   "metadata": {}
  },
  {
   "cell_type": "code",
   "source": [
    "from keras import backend as K\n",
    "from keras import regularizers, Sequential, Model\n",
    "from keras.engine import InputSpec\n",
    "from keras.engine.topology import Layer\n",
    "from keras.layers.convolutional import Conv2D, Conv2DTranspose\n",
    "from keras.layers.convolutional_recurrent import ConvLSTM2D\n",
    "from keras.layers import ReLU, BatchNormalization, TimeDistributed, Input\n",
    "\n",
    "\n",
    "class Conv_block(Sequential):\n",
    "    def __init__(self, output_features=16, kernel_size=(3, 3), strides=(1, 1), padding='same',\n",
    "                 data_format='channels_last', regularizer_weight=args.regularizer_weight):\n",
    "        super(Conv_block, self).__init__()\n",
    "\n",
    "        self.add(Conv2D(output_features, kernel_size, strides, padding, data_format,\n",
    "                        kernel_regularizer=regularizers.l2(regularizer_weight)))\n",
    "        # padding='same', H_out = ceil(H/s)\n",
    "        # padding='valid', H_out = ceil(H-k+1/s)\n",
    "\n",
    "        self.add(BatchNormalization())\n",
    "        self.add(ReLU())\n",
    "\n",
    "\n",
    "class Time_Conv_block(Sequential):\n",
    "    def __init__(self, output_features=16, kernel_size=(3, 3), strides=(1, 1), padding='same',\n",
    "                 data_format='channels_last', regularizer_weight=args.regularizer_weight):\n",
    "        super(Time_Conv_block, self).__init__()\n",
    "        self.add(TimeDistributed(Conv2D(output_features, kernel_size, strides, padding, data_format,\n",
    "                                        kernel_regularizer=regularizers.l2(regularizer_weight))))\n",
    "        self.add(TimeDistributed(BatchNormalization()))\n",
    "        self.add(TimeDistributed(ReLU()))\n",
    "\n",
    "\n",
    "class Residual_block(Sequential):\n",
    "    def __init__(self, output_features=128, kernel_size=(3, 3), strides=(1, 1), padding='same',\n",
    "                 data_format='channels_last', regularizer_weight=args.regularizer_weight):\n",
    "        super(Residual_block, self).__init__()\n",
    "        self.add(Conv2D(output_features, kernel_size, strides, padding, data_format,\n",
    "                        kernel_regularizer=regularizers.l2(regularizer_weight)))\n",
    "        self.add(BatchNormalization())\n",
    "        self.add(ReLU())\n",
    "        self.add(Conv2D(output_features, kernel_size, strides, padding, data_format,\n",
    "                        kernel_regularizer=regularizers.l2(regularizer_weight)))\n",
    "        self.add(BatchNormalization())\n",
    "\n",
    "    def call(self, inputs, training=None, mask=None):\n",
    "        outputs = super(Residual_block, self).call(inputs)\n",
    "        return outputs + inputs\n",
    "\n",
    "\n",
    "class Time_Residual_block(Sequential):\n",
    "    def __init__(self, output_features=128, kernel_size=(3, 3), strides=(1, 1), padding='same',\n",
    "                 data_format='channels_last', regularizer_weight=args.regularizer_weight):\n",
    "        super(Time_Residual_block, self).__init__()\n",
    "        self.add(TimeDistributed(Conv2D(output_features, kernel_size, strides, padding, data_format,\n",
    "                                        kernel_regularizer=regularizers.l2(regularizer_weight))))\n",
    "        self.add(TimeDistributed(BatchNormalization()))\n",
    "        self.add(TimeDistributed(ReLU()))\n",
    "        self.add(TimeDistributed(Conv2D(output_features, kernel_size, strides, padding, data_format,\n",
    "                                        kernel_regularizer=regularizers.l2(regularizer_weight))))\n",
    "        self.add(TimeDistributed(BatchNormalization()))\n",
    "\n",
    "    def call(self, inputs, training=None, mask=None):\n",
    "        outputs = super(Time_Residual_block, self).call(inputs)\n",
    "        return outputs+inputs\n",
    "\n",
    "\n",
    "class Transposed_conv_block(Sequential):\n",
    "    def __init__(self, output_features=16, kernel_size=(3, 3), strides=(1, 1), padding='same',\n",
    "                 output_padding=None, data_format='channels_last', regularizer_weight=args.regularizer_weight):\n",
    "        super(Transposed_conv_block, self).__init__()\n",
    "\n",
    "        self.add(Conv2DTranspose(output_features, kernel_size, strides, padding, output_padding, data_format,\n",
    "                                 kernel_regularizer=regularizers.l2(regularizer_weight)))\n",
    "        # theoretical formula, H_out = s(H-1)+k-2p+output_padding\n",
    "        # padding='same', H_out = s*H+output_padding\n",
    "        # padding='valid', H_out = s(H-1)+k+output_padding\n",
    "\n",
    "        self.add(Conv2D(output_features, kernel_size, (1, 1), padding, data_format,\n",
    "                        kernel_regularizer=regularizers.l2(regularizer_weight)))\n",
    "        self.add(BatchNormalization())\n",
    "        self.add(ReLU())\n",
    "\n",
    "\n",
    "class Time_Transposed_conv_block(Sequential):\n",
    "    def __init__(self, output_features=16, kernel_size=(3, 3), strides=(1, 1), padding='same',\n",
    "                 output_padding=None, data_format='channels_last', regularizer_weight=args.regularizer_weight):\n",
    "        super(Time_Transposed_conv_block, self).__init__()\n",
    "        self.add(TimeDistributed(Conv2DTranspose(output_features, kernel_size, strides, padding, output_padding,\n",
    "                                                 data_format, kernel_regularizer=regularizers.l2(regularizer_weight))))\n",
    "        self.add(TimeDistributed(Conv2D(output_features, kernel_size, (1, 1), padding, data_format,\n",
    "                                        kernel_regularizer=regularizers.l2(regularizer_weight))))\n",
    "        self.add(TimeDistributed(BatchNormalization()))\n",
    "        self.add(TimeDistributed(ReLU()))\n",
    "\n",
    "\n",
    "class Repeat_conv(Layer):\n",
    "    \"\"\"Repeats the input n times.\n",
    "    # Example\n",
    "    ```python\n",
    "        model = Sequential()\n",
    "        model.add(Dense(32, input_dim=32))\n",
    "        # now: model.output_shape == (None, 32)\n",
    "        # note: `None` is the batch dimension\n",
    "        model.add(RepeatVector(3))\n",
    "        # now: model.output_shape == (None, 3, 32)\n",
    "    ```\n",
    "    # Arguments\n",
    "        n: integer, repetition factor.\n",
    "    # Input shape\n",
    "        4D tensor of shape `(num_samples, w, h, c)`.\n",
    "    # Output shape\n",
    "        5D tensor of shape `(num_samples, n, w, h, c)`.\n",
    "    \"\"\"\n",
    "    def __init__(self, n, **kwargs):\n",
    "        super(Repeat_conv, self).__init__(**kwargs)\n",
    "        self.n = n\n",
    "        self.input_spec = InputSpec(ndim=4)\n",
    "\n",
    "    def compute_output_shape(self, input_shape):\n",
    "        return input_shape[0], self.n, input_shape[1], input_shape[2], input_shape[3]\n",
    "\n",
    "    def call(self, inputs):\n",
    "        x = K.expand_dims(inputs, axis=1)\n",
    "        pattern = tf.stack([1, self.n, 1, 1, 1])\n",
    "        return K.tile(x, pattern)\n",
    "\n",
    "    def get_config(self):\n",
    "        config = {'n': self.n}\n",
    "        base_config = super(Repeat_conv, self).get_config()\n",
    "        return dict(list(base_config.items()) + list(config.items()))\n",
    "\n",
    "\n",
    "# class Recurrent_R_U_Net(Sequential):\n",
    "#     def __init__(self, input_shape, time_step=8, data_format='channels_last'):\n",
    "#         super(Recurrent_R_U_Net, self).__init__()\n",
    "#         self.time_step = time_step\n",
    "\n",
    "#         # -------------Encoder--------------\n",
    "#         self.add(Input(shape=input_shape, name='image'))\n",
    "#         self.add(Conv_block(output_features=16, strides=(2, 2), data_format=data_format))\n",
    "#         # data_format='same', H_out = ceil(H/s)\n",
    "#         # data_format='valid', H_out = ceil(H-k+1/s)\n",
    "#         self.add(Conv_block(output_features=32, strides=(1, 1), data_format=data_format))\n",
    "#         self.add(Conv_block(output_features=64, strides=(2, 2), data_format=data_format))\n",
    "#         self.add(Conv_block(output_features=128, strides=(1, 1), data_format=data_format))\n",
    "\n",
    "#         # all the Residual block are the same\n",
    "#         for i in range(3):\n",
    "#             self.add(Residual_block(data_format=data_format))\n",
    "\n",
    "#         self.add(Repeat_conv(self.time_step))\n",
    "#         self.add(ConvLSTM2D(filters=128, kernel_size=(3, 3), strides=(1, 1), padding='same',\n",
    "#                             data_format=data_format, activation='tanh', recurrent_activation='hard_sigmoid',\n",
    "#                             use_bias=True, return_sequences=True, dropout=False, recurrent_dropout=False))\n",
    "\n",
    "#         # ----------------Decoder---------------\n",
    "#         time_res_conv1 = Time_Residual_block(data_format=data_format)\n",
    "#         time_res_conv2 = Time_Residual_block(data_format=data_format)\n",
    "#         time_res_conv3 = Time_Residual_block(data_format=data_format)\n",
    "\n",
    "#         for i in range(3):\n",
    "#             self.add(Time_Residual_block(data_format=data_format))\n",
    "\n",
    "#         self.add(Time_Transposed_conv_block(output_features=128, kernel_size=(3, 3), strides=(1, 1), data_format=data_format))\n",
    "#         self.add(Time_Transposed_conv_block(output_features=64, kernel_size=(3, 3), strides=(2, 2), data_format=data_format))\n",
    "#         self.add(Time_Transposed_conv_block(output_features=32, kernel_size=(3, 3), strides=(1, 1), data_format=data_format))\n",
    "#         self.add(Time_Transposed_conv_block(output_features=16, kernel_size=(3, 3), strides=(2, 2), data_format=data_format))\n",
    "#         self.add(Time_Conv_block(output_features=1, data_format=data_format))\n",
    "\n",
    "        \n",
    "class Recurrent_R_U_Net(Model):\n",
    "    def __init__(self, input_shape, time_step=8, data_format='channels_last'):\n",
    "        super(Recurrent_R_U_Net, self).__init__()\n",
    "        self.time_step = time_step\n",
    "\n",
    "        # -------------Encoder--------------\n",
    "#         self.add(Input(shape=input_shape, name='image'))\n",
    "        self.conv1 = Conv_block(output_features=16, strides=(2, 2), data_format=data_format)\n",
    "        self.conv2 = Conv_block(output_features=32, strides=(1, 1), data_format=data_format)\n",
    "        self.conv3 = Conv_block(output_features=64, strides=(2, 2), data_format=data_format)\n",
    "        self.conv4 = Conv_block(output_features=128, strides=(1, 1), data_format=data_format)\n",
    "        \n",
    "        # all the Residual block are the same\n",
    "        self.res_conv1 = Residual_block(data_format=data_format)\n",
    "        self.res_conv2 = Residual_block(data_format=data_format)\n",
    "        self.res_conv3 = Residual_block(data_format=data_format)\n",
    "        \n",
    "        self.repeat_conv = Repeat_conv(self.time_step)\n",
    "        self.ConvLSTM = ConvLSTM2D(filters=128, kernel_size=(3, 3), strides=(1, 1), padding='same',\n",
    "                            data_format=data_format, activation='tanh', recurrent_activation='hard_sigmoid',\n",
    "                            use_bias=True, return_sequences=True, dropout=False, recurrent_dropout=False)\n",
    "    \n",
    "        # ----------------Decoder---------------\n",
    "        self.time_res_conv1 = Time_Residual_block(data_format=data_format)\n",
    "        self.time_res_conv2 = Time_Residual_block(data_format=data_format)\n",
    "        self.time_res_conv3 = Time_Residual_block(data_format=data_format)\n",
    "        \n",
    "        self.time_t_conv1 = Time_Transposed_conv_block(output_features=128, kernel_size=(3, 3), strides=(1, 1), data_format=data_format)\n",
    "        self.time_t_conv2 = Time_Transposed_conv_block(output_features=64, kernel_size=(3, 3), strides=(2, 2), data_format=data_format)\n",
    "        self.time_t_conv3 = Time_Transposed_conv_block(output_features=32, kernel_size=(3, 3), strides=(1, 1), data_format=data_format)\n",
    "        self.time_t_conv4 = Time_Transposed_conv_block(output_features=16, kernel_size=(3, 3), strides=(2, 2), data_format=data_format)\n",
    "        self.time_t_conv5 = Time_Conv_block(output_features=1, data_format=data_format)\n",
    "    \n",
    "    def call(self, inputs, training=None, mask=None):\n",
    "        enc1 = self.conv1(inputs)  # (40, 40, 16)\n",
    "        time_enc1 = self.repeat_conv(enc1)  # (time_step, 40, 40, 16)\n",
    "        enc2 = self.conv2(enc1)  # (40, 40, 32)\n",
    "        time_enc2 = self.repeat_conv(enc2)  # (time_step, 40, 40, 32)\n",
    "        enc3 = self.conv3(enc2)  # (20, 20, 64)\n",
    "        time_enc3 = self.repeat_conv(enc3)  # (time_step, 20, 20, 64)\n",
    "        enc4 = self.conv4(enc3)  # (20, 20, 128)\n",
    "        time_enc4 = self.repeat_conv(enc4)  # (time_step, 20, 20, 128)\n",
    "        \n",
    "        x = self.res_conv1(enc4)  # (20, 20, 128)\n",
    "        x = self.res_conv2(x)  # (20, 20, 128)\n",
    "        x = self.res_conv3(x)  # (20, 20, 128)\n",
    "        \n",
    "        x = Repeat_conv(self.time_step)(enc4)  # (time_step, 20, 20, 128)\n",
    "        x = self.ConvLSTM(x)  # (time_step, 20, 20, 128)\n",
    "        \n",
    "        x = self.time_res_conv1(x)  # (time_step, 20, 20, 128)\n",
    "        x = self.time_res_conv2(x)  # (time_step, 20, 20, 128)\n",
    "        dec4 = self.time_res_conv3(x)  # (time_step, 20, 20, 128)\n",
    "        \n",
    "        merge4 = tf.concat([time_enc4, dec4], -1)  # (time_step, 20, 20, 128+128)\n",
    "        dec3 = self.time_t_conv1(merge4)  # (time_step, 20, 20, 128)\n",
    "        merge3 = tf.concat([time_enc3, dec3], -1)  # (time_step, 20, 20, 64+128)  \n",
    "        dec2 = self.time_t_conv2(merge3)  # (time_step, 40, 40, 64)  \n",
    "        merge2 = tf.concat([time_enc2, dec2], -1)  # (time_step, 40, 40, 32+64)  \n",
    "        dec1 = self.time_t_conv3(merge2)  # (time_step, 40, 40, 32)  \n",
    "        merge1 = tf.concat([time_enc1, dec1], -1)  # (time_step, 40, 40, 16+32)  \n",
    "        dec0 = self.time_t_conv4(merge1)  # (time_step, 80, 80, 16)  \n",
    "        output = self.time_t_conv5(dec0)  # (time_step, 80, 80, 1)  \n",
    "    \n",
    "        return output\n",
    "        \n",
    "        \n",
    "x = Input(shape=(80, 80, 3))\n",
    "model = Recurrent_R_U_Net(input_shape=(80, 80, 3), time_step=10, data_format='channels_last')\n",
    "y = model(x)\n",
    "print(y.shape)\n",
    "model.summary()\n",
    "\n",
    "\n",
    "# Conv_2D = tf.keras.layers.Conv2D(64, 3)\n",
    "# y = TimeDistributed(Conv_block())(x)\n",
    "# print(y.shape)\n",
    "# y = y.numpy()\n",
    "# for i in range(19):\n",
    "#     print(y[0, i].any() == y[0, i+1].any())"
   ],
   "metadata": {
    "execution": {
     "iopub.status.busy": "2022-11-22T01:30:06.954993Z",
     "iopub.execute_input": "2022-11-22T01:30:06.955557Z",
     "iopub.status.idle": "2022-11-22T01:30:08.052318Z",
     "shell.execute_reply.started": "2022-11-22T01:30:06.955522Z",
     "shell.execute_reply": "2022-11-22T01:30:08.050802Z"
    },
    "trusted": true
   },
   "execution_count": 22,
   "outputs": [
    {
     "name": "stdout",
     "text": "(None, 10, 80, 80, 1)\nModel: \"recurrent_r_u__net_2\"\n_________________________________________________________________\nLayer (type)                 Output Shape              Param #   \n=================================================================\nconv_block_8 (Conv_block)    (None, 40, 40, 16)        512       \n_________________________________________________________________\nconv_block_9 (Conv_block)    (None, 40, 40, 32)        4768      \n_________________________________________________________________\nconv_block_10 (Conv_block)   (None, 20, 20, 64)        18752     \n_________________________________________________________________\nconv_block_11 (Conv_block)   (None, 20, 20, 128)       74368     \n_________________________________________________________________\nresidual_block_6 (Residual_b (None, 20, 20, 128)       296192    \n_________________________________________________________________\nresidual_block_7 (Residual_b (None, 20, 20, 128)       296192    \n_________________________________________________________________\nresidual_block_8 (Residual_b (None, 20, 20, 128)       296192    \n_________________________________________________________________\nrepeat_conv_2 (Repeat_conv)  multiple                  0         \n_________________________________________________________________\nconv_lst_m2d_2 (ConvLSTM2D)  multiple                  1180160   \n_________________________________________________________________\ntime__residual_block_6 (Time (None, 10, 20, 20, 128)   296192    \n_________________________________________________________________\ntime__residual_block_7 (Time (None, 10, 20, 20, 128)   296192    \n_________________________________________________________________\ntime__residual_block_8 (Time (None, 10, 20, 20, 128)   296192    \n_________________________________________________________________\ntime__transposed_conv_block_ (None, 10, 20, 20, 128)   443136    \n_________________________________________________________________\ntime__transposed_conv_block_ (None, 10, 40, 40, 64)    147840    \n_________________________________________________________________\ntime__transposed_conv_block_ (None, 10, 40, 40, 32)    37056     \n_________________________________________________________________\ntime__transposed_conv_block_ (None, 10, 80, 80, 16)    9312      \n_________________________________________________________________\ntime__conv_block_2 (Time_Con (None, 10, 80, 80, 1)     149       \n=================================================================\nTotal params: 3,693,205\nTrainable params: 3,689,171\nNon-trainable params: 4,034\n_________________________________________________________________\n",
     "output_type": "stream"
    }
   ]
  },
  {
   "cell_type": "code",
   "source": [
    "# print(os.getcwd())\n",
    "# print(os.listdir(os.getcwd()))\n",
    "# # output_directory = r'./results_2021.04.10'\n",
    "# # if not os.path.exists(output_directory):\n",
    "# #     os.mkdir(output_directory)  \n",
    "\n",
    "# os.remove(r'kaggle/working/__notebook_source__.ipynb')\n",
    "# # os.rmdir(output_directory)\n",
    "# print(os.listdir(os.getcwd()))"
   ],
   "metadata": {
    "execution": {
     "iopub.status.busy": "2022-11-22T01:30:08.057469Z",
     "iopub.execute_input": "2022-11-22T01:30:08.057714Z",
     "iopub.status.idle": "2022-11-22T01:30:08.065052Z",
     "shell.execute_reply.started": "2022-11-22T01:30:08.057689Z",
     "shell.execute_reply": "2022-11-22T01:30:08.064184Z"
    },
    "trusted": true
   },
   "execution_count": 23,
   "outputs": []
  },
  {
   "cell_type": "code",
   "source": [
    "# from kaggle_secrets import UserSecretsClient\n",
    "# user_secrets = UserSecretsClient()\n",
    "# user_credential = user_secrets.get_gcloud_credential()\n",
    "# user_secrets.set_tensorflow_credential(user_credential)\n",
    "# from kaggle_datasets import KaggleDatasets\n",
    "# GCS_DS_PATH = KaggleDatasets().get_gcs_path()\n",
    "# print(GCS_DS_PATH)"
   ],
   "metadata": {
    "execution": {
     "iopub.status.busy": "2022-11-22T01:30:08.066536Z",
     "iopub.execute_input": "2022-11-22T01:30:08.066890Z",
     "iopub.status.idle": "2022-11-22T01:30:08.071581Z",
     "shell.execute_reply.started": "2022-11-22T01:30:08.066858Z",
     "shell.execute_reply": "2022-11-22T01:30:08.070479Z"
    },
    "trusted": true
   },
   "execution_count": 24,
   "outputs": []
  },
  {
   "cell_type": "code",
   "source": [
    "# 含水饱和度Sw\n",
    "# with h5py.File(r'../input/dataset-course/Dataset Course.h5', 'r') as f:\n",
    "#     x_train = f['train_input'][()]\n",
    "#     y_train = f['train_output'][:, :, :, :, :1]\n",
    "#     x_test = f['test_input'][()]\n",
    "#     y_test = f['test_output'][:, :, :, :, :1]\n",
    "\n",
    "#  地层压力P\n",
    "# with h5py.File(r'../input/dataset-course/Dataset Course.h5', 'r') as f:\n",
    "#     x_train = f['train_input'][()]\n",
    "#     y_train = f['train_output'][:, :, :, :, 1:] \n",
    "#     x_test = f['test_input'][()]\n",
    "#     y_test = f['test_output'][:, :, :, :, 1:]  \n",
    "\n",
    "#  残差学习，含水饱和度Sw\n",
    "with h5py.File(r'../input/dataset-course/Dataset Course logk residual.h5', 'r') as f:\n",
    "    x_train = f['train_input'][()]\n",
    "    y_train = f['train_output'][:, :, :, :, :1]\n",
    "    x_test = f['test_input'][()]\n",
    "    y_test = f['test_output'][:, :, :, :, :1]\n",
    "    initial = f['test_output'][:, :, :, :, 1:2]\n",
    "    \n",
    "#  残差学习，地层压力P\n",
    "# with h5py.File(r'../input/dataset-course/Dataset Course logk residual.h5', 'r') as f:\n",
    "#     x_train = f['train_input'][()]\n",
    "#     y_train = f['train_output'][:, :, :, :,2:3]\n",
    "#     x_test = f['test_input'][()]\n",
    "#     y_test = f['test_output'][:, :, :, :, 2:3]\n",
    "#     initial = f['test_output'][:, :, :, :, 3:]\n",
    "    \n",
    "print(x_train.shape)\n",
    "print(y_train.shape)\n",
    "print(x_test.shape)\n",
    "print(y_test.shape)"
   ],
   "metadata": {
    "execution": {
     "iopub.status.busy": "2022-11-22T01:30:08.072608Z",
     "iopub.execute_input": "2022-11-22T01:30:08.072961Z",
     "iopub.status.idle": "2022-11-22T01:30:11.554362Z",
     "shell.execute_reply.started": "2022-11-22T01:30:08.072927Z",
     "shell.execute_reply": "2022-11-22T01:30:11.553497Z"
    },
    "trusted": true
   },
   "execution_count": 25,
   "outputs": [
    {
     "name": "stdout",
     "text": "(180, 80, 80, 1)\n(180, 10, 80, 80, 1)\n(20, 80, 80, 1)\n(20, 10, 80, 80, 1)\n",
     "output_type": "stream"
    }
   ]
  },
  {
   "cell_type": "code",
   "source": [
    "#  define the loss for Recurrent_R_U_Net\n",
    "def l2_loss(y_true, y_pred):\n",
    "    return K.sum((K.batch_flatten(y_true)-K.batch_flatten(y_pred))**2, axis=-1)\n",
    "\n",
    "\n",
    "def l2_mean_loss(y_true, y_pred):\n",
    "    return K.mean(l2_loss(y_true, y_pred))\n",
    "\n",
    "\n",
    "def l1_loss(y_true, y_pred):\n",
    "    return K.sum(K.abs(K.batch_flatten(y_true)-K.batch_flatten(y_pred)), axis=-1)\n",
    "\n",
    "\n",
    "def l1_mean_loss(y_true, y_pred):\n",
    "    return K.mean(l1_loss(y_true, y_pred))\n",
    "\n",
    "\n",
    "def relative_l1_loss(y_true, y_pred):\n",
    "    return K.mean(K.abs((y_true - y_pred) / y_true))"
   ],
   "metadata": {
    "execution": {
     "iopub.status.busy": "2022-11-22T01:30:11.555681Z",
     "iopub.execute_input": "2022-11-22T01:30:11.556055Z",
     "iopub.status.idle": "2022-11-22T01:30:11.564365Z",
     "shell.execute_reply.started": "2022-11-22T01:30:11.556016Z",
     "shell.execute_reply": "2022-11-22T01:30:11.561857Z"
    },
    "trusted": true
   },
   "execution_count": 26,
   "outputs": []
  },
  {
   "cell_type": "code",
   "source": [
    "# instantiating the model in the strategy scope creates the model on the TPU\n",
    "with strategy.scope():\n",
    "    model = Recurrent_R_U_Net(input_shape=(80, 80, 1), time_step=10, data_format=args.data_format)\n",
    "\n",
    "    model.compile(loss=l1_mean_loss, optimizer=tf.keras.optimizers.Adam(lr=3e-3), metrics=[relative_l1_loss])\n",
    "    scheduler = ReduceLROnPlateau(monitor='loss', factor=0.5, patience=15, cooldown=1, verbose=1, min_lr=1e-6)\n",
    "    checkpoint = ModelCheckpoint(r'./saved-model-{epoch:03d}-{val_loss:.5f}.h5', monitor='val_loss',\n",
    "                                 verbose=1, save_best_only=True, mode='auto')\n",
    "    callback_list = [scheduler, checkpoint]\n",
    "    \n",
    "start = time()\n",
    "history = model.fit(x_train, y_train, batch_size=args.batch_size, epochs=args.epoch, verbose=1,\n",
    "                    validation_data=(x_test, y_test), callbacks=callback_list)\n",
    "end = time()\n",
    "print('the training time is:', end-start)\n",
    "\n",
    "model.save_weights(r'./trained_model.h5')\n",
    "# model.load_weights()\n",
    "\n",
    "# save_locally = tf.saved_model.SaveOptions(experimental_io_device='/job:localhost')\n",
    "# model.save(r'./trained_model.h5', options=save_locally)\n",
    "# model.save(GCS_DS_PATH + r'/trained_model_no_options')\n",
    "# model.save(r'./trained_model', options=save_locally)"
   ],
   "metadata": {
    "execution": {
     "iopub.status.busy": "2022-11-22T01:30:11.565670Z",
     "iopub.execute_input": "2022-11-22T01:30:11.566123Z",
     "iopub.status.idle": "2022-11-22T01:33:32.326369Z",
     "shell.execute_reply.started": "2022-11-22T01:30:11.566085Z",
     "shell.execute_reply": "2022-11-22T01:33:32.325502Z"
    },
    "trusted": true
   },
   "execution_count": 27,
   "outputs": [
    {
     "name": "stdout",
     "text": "Epoch 1/80\n6/6 [==============================] - 12s 874ms/step - loss: 18174.1720 - relative_l1_loss: nan - val_loss: 2873799168.0000 - val_relative_l1_loss: nan\n\nEpoch 00001: val_loss improved from inf to 2873799168.00000, saving model to ./saved-model-001-2873799168.00000.h5\nEpoch 2/80\n6/6 [==============================] - 2s 386ms/step - loss: 5574.1240 - relative_l1_loss: nan - val_loss: 998639616.0000 - val_relative_l1_loss: nan\n\nEpoch 00002: val_loss improved from 2873799168.00000 to 998639616.00000, saving model to ./saved-model-002-998639616.00000.h5\nEpoch 3/80\n6/6 [==============================] - 2s 386ms/step - loss: 1678.9930 - relative_l1_loss: nan - val_loss: 349015136.0000 - val_relative_l1_loss: nan\n\nEpoch 00003: val_loss improved from 998639616.00000 to 349015136.00000, saving model to ./saved-model-003-349015136.00000.h5\nEpoch 4/80\n6/6 [==============================] - 2s 386ms/step - loss: 695.2662 - relative_l1_loss: nan - val_loss: 61386516.0000 - val_relative_l1_loss: nan\n\nEpoch 00004: val_loss improved from 349015136.00000 to 61386516.00000, saving model to ./saved-model-004-61386516.00000.h5\nEpoch 5/80\n6/6 [==============================] - 2s 385ms/step - loss: 621.9376 - relative_l1_loss: nan - val_loss: 685408.6875 - val_relative_l1_loss: nan\n\nEpoch 00005: val_loss improved from 61386516.00000 to 685408.68750, saving model to ./saved-model-005-685408.68750.h5\nEpoch 6/80\n6/6 [==============================] - 2s 388ms/step - loss: 344.7919 - relative_l1_loss: nan - val_loss: 168732.7812 - val_relative_l1_loss: nan\n\nEpoch 00006: val_loss improved from 685408.68750 to 168732.78125, saving model to ./saved-model-006-168732.78125.h5\nEpoch 7/80\n6/6 [==============================] - 2s 388ms/step - loss: 310.9207 - relative_l1_loss: nan - val_loss: 49484.3633 - val_relative_l1_loss: nan\n\nEpoch 00007: val_loss improved from 168732.78125 to 49484.36328, saving model to ./saved-model-007-49484.36328.h5\nEpoch 8/80\n6/6 [==============================] - 2s 385ms/step - loss: 308.8832 - relative_l1_loss: nan - val_loss: 19861.3945 - val_relative_l1_loss: nan\n\nEpoch 00008: val_loss improved from 49484.36328 to 19861.39453, saving model to ./saved-model-008-19861.39453.h5\nEpoch 9/80\n6/6 [==============================] - 2s 385ms/step - loss: 308.4870 - relative_l1_loss: nan - val_loss: 9380.0371 - val_relative_l1_loss: nan\n\nEpoch 00009: val_loss improved from 19861.39453 to 9380.03711, saving model to ./saved-model-009-9380.03711.h5\nEpoch 10/80\n6/6 [==============================] - 2s 386ms/step - loss: 308.3862 - relative_l1_loss: nan - val_loss: 4922.4438 - val_relative_l1_loss: nan\n\nEpoch 00010: val_loss improved from 9380.03711 to 4922.44385, saving model to ./saved-model-010-4922.44385.h5\nEpoch 11/80\n6/6 [==============================] - 2s 385ms/step - loss: 308.2406 - relative_l1_loss: nan - val_loss: 2813.2236 - val_relative_l1_loss: nan\n\nEpoch 00011: val_loss improved from 4922.44385 to 2813.22363, saving model to ./saved-model-011-2813.22363.h5\nEpoch 12/80\n6/6 [==============================] - 2s 385ms/step - loss: 308.2464 - relative_l1_loss: nan - val_loss: 1727.2773 - val_relative_l1_loss: nan\n\nEpoch 00012: val_loss improved from 2813.22363 to 1727.27734, saving model to ./saved-model-012-1727.27734.h5\nEpoch 13/80\n6/6 [==============================] - 2s 386ms/step - loss: 308.1632 - relative_l1_loss: nan - val_loss: 1132.0553 - val_relative_l1_loss: nan\n\nEpoch 00013: val_loss improved from 1727.27734 to 1132.05530, saving model to ./saved-model-013-1132.05530.h5\nEpoch 14/80\n6/6 [==============================] - 2s 385ms/step - loss: 308.1261 - relative_l1_loss: nan - val_loss: 791.3104 - val_relative_l1_loss: nan\n\nEpoch 00014: val_loss improved from 1132.05530 to 791.31042, saving model to ./saved-model-014-791.31042.h5\nEpoch 15/80\n6/6 [==============================] - 2s 385ms/step - loss: 308.1305 - relative_l1_loss: nan - val_loss: 588.5159 - val_relative_l1_loss: nan\n\nEpoch 00015: val_loss improved from 791.31042 to 588.51587, saving model to ./saved-model-015-588.51587.h5\nEpoch 16/80\n6/6 [==============================] - 2s 387ms/step - loss: 308.0920 - relative_l1_loss: nan - val_loss: 466.8930 - val_relative_l1_loss: nan\n\nEpoch 00016: val_loss improved from 588.51587 to 466.89297, saving model to ./saved-model-016-466.89297.h5\nEpoch 17/80\n6/6 [==============================] - 2s 385ms/step - loss: 308.0611 - relative_l1_loss: nan - val_loss: 395.0026 - val_relative_l1_loss: nan\n\nEpoch 00017: val_loss improved from 466.89297 to 395.00256, saving model to ./saved-model-017-395.00256.h5\nEpoch 18/80\n6/6 [==============================] - 2s 386ms/step - loss: 308.0557 - relative_l1_loss: nan - val_loss: 354.5595 - val_relative_l1_loss: nan\n\nEpoch 00018: val_loss improved from 395.00256 to 354.55954, saving model to ./saved-model-018-354.55954.h5\nEpoch 19/80\n6/6 [==============================] - 2s 386ms/step - loss: 308.0592 - relative_l1_loss: nan - val_loss: 333.8269 - val_relative_l1_loss: nan\n\nEpoch 00019: val_loss improved from 354.55954 to 333.82687, saving model to ./saved-model-019-333.82687.h5\nEpoch 20/80\n6/6 [==============================] - 2s 392ms/step - loss: 308.0268 - relative_l1_loss: nan - val_loss: 322.8057 - val_relative_l1_loss: nan\n\nEpoch 00020: val_loss improved from 333.82687 to 322.80566, saving model to ./saved-model-020-322.80566.h5\nEpoch 21/80\n6/6 [==============================] - 2s 387ms/step - loss: 307.9896 - relative_l1_loss: nan - val_loss: 316.4646 - val_relative_l1_loss: nan\n\nEpoch 00021: val_loss improved from 322.80566 to 316.46460, saving model to ./saved-model-021-316.46460.h5\nEpoch 22/80\n6/6 [==============================] - 2s 386ms/step - loss: 308.0085 - relative_l1_loss: nan - val_loss: 312.7949 - val_relative_l1_loss: nan\n\nEpoch 00022: val_loss improved from 316.46460 to 312.79486, saving model to ./saved-model-022-312.79486.h5\nEpoch 23/80\n6/6 [==============================] - 2s 386ms/step - loss: 307.9565 - relative_l1_loss: nan - val_loss: 310.5665 - val_relative_l1_loss: nan\n\nEpoch 00023: val_loss improved from 312.79486 to 310.56650, saving model to ./saved-model-023-310.56650.h5\nEpoch 24/80\n6/6 [==============================] - 2s 387ms/step - loss: 307.9918 - relative_l1_loss: nan - val_loss: 309.3470 - val_relative_l1_loss: nan\n\nEpoch 00024: val_loss improved from 310.56650 to 309.34695, saving model to ./saved-model-024-309.34695.h5\nEpoch 25/80\n6/6 [==============================] - 2s 386ms/step - loss: 307.9836 - relative_l1_loss: nan - val_loss: 308.7801 - val_relative_l1_loss: nan\n\nEpoch 00025: val_loss improved from 309.34695 to 308.78012, saving model to ./saved-model-025-308.78012.h5\nEpoch 26/80\n6/6 [==============================] - 2s 388ms/step - loss: 307.9479 - relative_l1_loss: nan - val_loss: 308.5124 - val_relative_l1_loss: nan\n\nEpoch 00026: val_loss improved from 308.78012 to 308.51242, saving model to ./saved-model-026-308.51242.h5\nEpoch 27/80\n6/6 [==============================] - 2s 386ms/step - loss: 307.9624 - relative_l1_loss: nan - val_loss: 308.3596 - val_relative_l1_loss: nan\n\nEpoch 00027: val_loss improved from 308.51242 to 308.35956, saving model to ./saved-model-027-308.35956.h5\nEpoch 28/80\n6/6 [==============================] - 2s 386ms/step - loss: 307.9997 - relative_l1_loss: nan - val_loss: 308.2747 - val_relative_l1_loss: nan\n\nEpoch 00028: val_loss improved from 308.35956 to 308.27469, saving model to ./saved-model-028-308.27469.h5\nEpoch 29/80\n6/6 [==============================] - 2s 385ms/step - loss: 307.9759 - relative_l1_loss: nan - val_loss: 308.2267 - val_relative_l1_loss: nan\n\nEpoch 00029: val_loss improved from 308.27469 to 308.22675, saving model to ./saved-model-029-308.22675.h5\nEpoch 30/80\n6/6 [==============================] - 2s 385ms/step - loss: 307.9405 - relative_l1_loss: nan - val_loss: 308.1890 - val_relative_l1_loss: nan\n\nEpoch 00030: val_loss improved from 308.22675 to 308.18903, saving model to ./saved-model-030-308.18903.h5\nEpoch 31/80\n6/6 [==============================] - 2s 387ms/step - loss: 307.9843 - relative_l1_loss: nan - val_loss: 308.1723 - val_relative_l1_loss: nan\n\nEpoch 00031: val_loss improved from 308.18903 to 308.17230, saving model to ./saved-model-031-308.17230.h5\nEpoch 32/80\n6/6 [==============================] - 2s 386ms/step - loss: 307.9475 - relative_l1_loss: nan - val_loss: 308.1625 - val_relative_l1_loss: nan\n\nEpoch 00032: val_loss improved from 308.17230 to 308.16251, saving model to ./saved-model-032-308.16251.h5\nEpoch 33/80\n6/6 [==============================] - 2s 405ms/step - loss: 307.9342 - relative_l1_loss: nan - val_loss: 308.1561 - val_relative_l1_loss: nan\n\nEpoch 00033: val_loss improved from 308.16251 to 308.15607, saving model to ./saved-model-033-308.15607.h5\nEpoch 34/80\n6/6 [==============================] - 2s 385ms/step - loss: 307.9531 - relative_l1_loss: nan - val_loss: 308.1509 - val_relative_l1_loss: nan\n\nEpoch 00034: val_loss improved from 308.15607 to 308.15094, saving model to ./saved-model-034-308.15094.h5\nEpoch 35/80\n6/6 [==============================] - 2s 386ms/step - loss: 307.9673 - relative_l1_loss: nan - val_loss: 308.1483 - val_relative_l1_loss: nan\n\nEpoch 00035: val_loss improved from 308.15094 to 308.14825, saving model to ./saved-model-035-308.14825.h5\nEpoch 36/80\n6/6 [==============================] - 2s 386ms/step - loss: 307.9433 - relative_l1_loss: nan - val_loss: 308.1479 - val_relative_l1_loss: nan\n\nEpoch 00036: val_loss improved from 308.14825 to 308.14792, saving model to ./saved-model-036-308.14792.h5\nEpoch 37/80\n6/6 [==============================] - 2s 386ms/step - loss: 307.9589 - relative_l1_loss: nan - val_loss: 308.1479 - val_relative_l1_loss: nan\n\nEpoch 00037: val_loss improved from 308.14792 to 308.14786, saving model to ./saved-model-037-308.14786.h5\nEpoch 38/80\n6/6 [==============================] - 2s 385ms/step - loss: 307.9202 - relative_l1_loss: nan - val_loss: 308.1462 - val_relative_l1_loss: nan\n\nEpoch 00038: val_loss improved from 308.14786 to 308.14618, saving model to ./saved-model-038-308.14618.h5\nEpoch 39/80\n6/6 [==============================] - 2s 386ms/step - loss: 307.9657 - relative_l1_loss: nan - val_loss: 308.1463 - val_relative_l1_loss: nan\n\nEpoch 00039: val_loss did not improve from 308.14618\nEpoch 40/80\n6/6 [==============================] - 2s 385ms/step - loss: 307.9223 - relative_l1_loss: nan - val_loss: 308.1464 - val_relative_l1_loss: nan\n\nEpoch 00040: val_loss did not improve from 308.14618\nEpoch 41/80\n6/6 [==============================] - 2s 387ms/step - loss: 307.9703 - relative_l1_loss: nan - val_loss: 308.1467 - val_relative_l1_loss: nan\n\nEpoch 00041: val_loss did not improve from 308.14618\nEpoch 42/80\n6/6 [==============================] - 2s 387ms/step - loss: 307.9756 - relative_l1_loss: nan - val_loss: 308.1472 - val_relative_l1_loss: nan\n\nEpoch 00042: val_loss did not improve from 308.14618\nEpoch 43/80\n6/6 [==============================] - 2s 386ms/step - loss: 307.9861 - relative_l1_loss: nan - val_loss: 308.1456 - val_relative_l1_loss: nan\n\nEpoch 00043: val_loss improved from 308.14618 to 308.14563, saving model to ./saved-model-043-308.14563.h5\nEpoch 44/80\n6/6 [==============================] - 2s 387ms/step - loss: 307.9468 - relative_l1_loss: nan - val_loss: 308.1470 - val_relative_l1_loss: nan\n\nEpoch 00044: val_loss did not improve from 308.14563\nEpoch 45/80\n6/6 [==============================] - 2s 387ms/step - loss: 307.9259 - relative_l1_loss: nan - val_loss: 308.1483 - val_relative_l1_loss: nan\n\nEpoch 00045: val_loss did not improve from 308.14563\nEpoch 46/80\n6/6 [==============================] - 2s 393ms/step - loss: 307.9587 - relative_l1_loss: nan - val_loss: 308.1495 - val_relative_l1_loss: nan\n\nEpoch 00046: val_loss did not improve from 308.14563\nEpoch 47/80\n6/6 [==============================] - 2s 386ms/step - loss: 307.9386 - relative_l1_loss: nan - val_loss: 308.1497 - val_relative_l1_loss: nan\n\nEpoch 00047: val_loss did not improve from 308.14563\nEpoch 48/80\n6/6 [==============================] - 2s 386ms/step - loss: 307.9192 - relative_l1_loss: nan - val_loss: 308.1507 - val_relative_l1_loss: nan\n\nEpoch 00048: val_loss did not improve from 308.14563\nEpoch 49/80\n6/6 [==============================] - 2s 391ms/step - loss: 307.9850 - relative_l1_loss: nan - val_loss: 308.1505 - val_relative_l1_loss: nan\n\nEpoch 00049: val_loss did not improve from 308.14563\nEpoch 50/80\n6/6 [==============================] - 2s 387ms/step - loss: 307.9224 - relative_l1_loss: nan - val_loss: 308.1481 - val_relative_l1_loss: nan\n\nEpoch 00050: val_loss did not improve from 308.14563\nEpoch 51/80\n6/6 [==============================] - 2s 385ms/step - loss: 307.9986 - relative_l1_loss: nan - val_loss: 308.1475 - val_relative_l1_loss: nan\n\nEpoch 00051: val_loss did not improve from 308.14563\nEpoch 52/80\n6/6 [==============================] - 2s 387ms/step - loss: 307.9334 - relative_l1_loss: nan - val_loss: 308.1468 - val_relative_l1_loss: nan\n\nEpoch 00052: val_loss did not improve from 308.14563\nEpoch 53/80\n6/6 [==============================] - 2s 386ms/step - loss: 307.8767 - relative_l1_loss: nan - val_loss: 308.1470 - val_relative_l1_loss: nan\n\nEpoch 00053: val_loss did not improve from 308.14563\nEpoch 54/80\n6/6 [==============================] - 2s 386ms/step - loss: 307.9552 - relative_l1_loss: nan - val_loss: 308.1478 - val_relative_l1_loss: nan\n\nEpoch 00054: val_loss did not improve from 308.14563\nEpoch 55/80\n6/6 [==============================] - 2s 387ms/step - loss: 307.9137 - relative_l1_loss: nan - val_loss: 308.1473 - val_relative_l1_loss: nan\n\nEpoch 00055: val_loss did not improve from 308.14563\nEpoch 56/80\n6/6 [==============================] - 2s 400ms/step - loss: 307.9590 - relative_l1_loss: nan - val_loss: 308.1468 - val_relative_l1_loss: nan\n\nEpoch 00056: val_loss did not improve from 308.14563\nEpoch 57/80\n6/6 [==============================] - 2s 385ms/step - loss: 307.9349 - relative_l1_loss: nan - val_loss: 308.1465 - val_relative_l1_loss: nan\n\nEpoch 00057: val_loss did not improve from 308.14563\nEpoch 58/80\n6/6 [==============================] - 2s 385ms/step - loss: 307.9107 - relative_l1_loss: nan - val_loss: 308.1461 - val_relative_l1_loss: nan\n\nEpoch 00058: val_loss did not improve from 308.14563\nEpoch 59/80\n6/6 [==============================] - 2s 385ms/step - loss: 307.9298 - relative_l1_loss: nan - val_loss: 308.1457 - val_relative_l1_loss: nan\n\nEpoch 00059: val_loss did not improve from 308.14563\nEpoch 60/80\n6/6 [==============================] - 2s 395ms/step - loss: 307.9245 - relative_l1_loss: nan - val_loss: 308.1454 - val_relative_l1_loss: nan\n\nEpoch 00060: val_loss improved from 308.14563 to 308.14539, saving model to ./saved-model-060-308.14539.h5\nEpoch 61/80\n6/6 [==============================] - 2s 388ms/step - loss: 307.9407 - relative_l1_loss: nan - val_loss: 308.1454 - val_relative_l1_loss: nan\n\nEpoch 00061: val_loss did not improve from 308.14539\nEpoch 62/80\n6/6 [==============================] - 2s 385ms/step - loss: 307.9420 - relative_l1_loss: nan - val_loss: 308.1454 - val_relative_l1_loss: nan\n\nEpoch 00062: val_loss did not improve from 308.14539\nEpoch 63/80\n6/6 [==============================] - 2s 385ms/step - loss: 307.9849 - relative_l1_loss: nan - val_loss: 308.1455 - val_relative_l1_loss: nan\n\nEpoch 00063: val_loss did not improve from 308.14539\nEpoch 64/80\n6/6 [==============================] - 2s 386ms/step - loss: 307.9016 - relative_l1_loss: nan - val_loss: 308.1456 - val_relative_l1_loss: nan\n\nEpoch 00064: val_loss did not improve from 308.14539\nEpoch 65/80\n6/6 [==============================] - 2s 386ms/step - loss: 307.9674 - relative_l1_loss: nan - val_loss: 308.1456 - val_relative_l1_loss: nan\n\nEpoch 00065: val_loss did not improve from 308.14539\nEpoch 66/80\n6/6 [==============================] - 2s 387ms/step - loss: 307.9950 - relative_l1_loss: nan - val_loss: 308.1456 - val_relative_l1_loss: nan\n\nEpoch 00066: val_loss did not improve from 308.14539\nEpoch 67/80\n6/6 [==============================] - 2s 386ms/step - loss: 307.9601 - relative_l1_loss: nan - val_loss: 308.1456 - val_relative_l1_loss: nan\n\nEpoch 00067: val_loss did not improve from 308.14539\nEpoch 68/80\n6/6 [==============================] - 2s 386ms/step - loss: 307.8995 - relative_l1_loss: nan - val_loss: 308.1456 - val_relative_l1_loss: nan\n\nEpoch 00068: val_loss did not improve from 308.14539\nEpoch 69/80\n6/6 [==============================] - 2s 384ms/step - loss: 307.9026 - relative_l1_loss: nan - val_loss: 308.1456 - val_relative_l1_loss: nan\n\nEpoch 00069: val_loss did not improve from 308.14539\nEpoch 70/80\n6/6 [==============================] - 2s 385ms/step - loss: 307.9333 - relative_l1_loss: nan - val_loss: 308.1456 - val_relative_l1_loss: nan\n\nEpoch 00070: val_loss did not improve from 308.14539\nEpoch 71/80\n6/6 [==============================] - 2s 385ms/step - loss: 307.9610 - relative_l1_loss: nan - val_loss: 308.1456 - val_relative_l1_loss: nan\n\nEpoch 00071: val_loss did not improve from 308.14539\nEpoch 72/80\n6/6 [==============================] - 2s 387ms/step - loss: 307.9300 - relative_l1_loss: nan - val_loss: 308.1456 - val_relative_l1_loss: nan\n\nEpoch 00072: val_loss did not improve from 308.14539\nEpoch 73/80\n6/6 [==============================] - 2s 385ms/step - loss: 307.9345 - relative_l1_loss: nan - val_loss: 308.1456 - val_relative_l1_loss: nan\n\nEpoch 00073: val_loss did not improve from 308.14539\nEpoch 74/80\n6/6 [==============================] - 2s 392ms/step - loss: 307.9276 - relative_l1_loss: nan - val_loss: 308.1455 - val_relative_l1_loss: nan\n\nEpoch 00074: val_loss did not improve from 308.14539\nEpoch 75/80\n6/6 [==============================] - 2s 386ms/step - loss: 307.9688 - relative_l1_loss: nan - val_loss: 308.1454 - val_relative_l1_loss: nan\n\nEpoch 00075: val_loss did not improve from 308.14539\nEpoch 76/80\n6/6 [==============================] - 2s 386ms/step - loss: 307.9230 - relative_l1_loss: nan - val_loss: 308.1454 - val_relative_l1_loss: nan\n\nEpoch 00076: val_loss did not improve from 308.14539\nEpoch 77/80\n6/6 [==============================] - 2s 384ms/step - loss: 307.9869 - relative_l1_loss: nan - val_loss: 308.1453 - val_relative_l1_loss: nan\n\nEpoch 00077: val_loss improved from 308.14539 to 308.14532, saving model to ./saved-model-077-308.14532.h5\nEpoch 78/80\n6/6 [==============================] - 2s 386ms/step - loss: 307.9509 - relative_l1_loss: nan - val_loss: 308.1453 - val_relative_l1_loss: nan\n\nEpoch 00078: val_loss improved from 308.14532 to 308.14529, saving model to ./saved-model-078-308.14529.h5\nEpoch 79/80\n6/6 [==============================] - 2s 385ms/step - loss: 307.9472 - relative_l1_loss: nan - val_loss: 308.1452 - val_relative_l1_loss: nan\n\nEpoch 00079: val_loss improved from 308.14529 to 308.14523, saving model to ./saved-model-079-308.14523.h5\nEpoch 80/80\n6/6 [==============================] - 2s 388ms/step - loss: 307.9572 - relative_l1_loss: nan - val_loss: 308.1452 - val_relative_l1_loss: nan\n\nEpoch 00080: val_loss improved from 308.14523 to 308.14517, saving model to ./saved-model-080-308.14517.h5\nthe training time is: 200.4188175201416\n",
     "output_type": "stream"
    }
   ]
  },
  {
   "cell_type": "markdown",
   "source": [
    "# 残差学习时，第二个图可能会报错。原因：有些分母非常小，导致relative_l1_loss有些值不存在，进而影响整个relative_l1_loss"
   ],
   "metadata": {}
  },
  {
   "cell_type": "code",
   "source": [
    "with open(r'./loss_during_model_training.pickle', 'wb') as f:\n",
    "    pickle.dump(history.history, f)\n",
    "\n",
    "    \n",
    "# plot the loss of Recurrent_R_U_Net during the training epoch\n",
    "rc = {\"font.family\": \"Arial\",\n",
    "      \"mathtext.fontset\": \"custom\",\n",
    "      \"mathtext.rm\": \"Arial\",\n",
    "      \"mathtext.it\": \"Arial:italic\",\n",
    "      \"mathtext.bf\": \"Arial:bold\",\n",
    "      'font.size': 8,\n",
    "      }\n",
    "plt.rcParams.update(rc)\n",
    "\n",
    "plt.figure(figsize=(6.83, 3))\n",
    "plt.subplot(1, 2, 1)\n",
    "plt.plot(np.arange(len(history.history['loss'])), history.history['loss'], label='loss')\n",
    "plt.plot(np.arange(len(history.history['val_loss'])), history.history['val_loss'], label='val_loss')\n",
    "plt.legend(loc='upper right', fontsize=8)\n",
    "plt.ylim(0, np.max(history.history['loss']))\n",
    "plt.xlabel('epoch', {'size': 14})\n",
    "\n",
    "plt.subplot(1, 2, 2)\n",
    "plt.plot(np.arange(len(history.history['relative_l1_loss'])), history.history['relative_l1_loss'], label='relative_l1_loss')\n",
    "plt.plot(np.arange(len(history.history['val_relative_l1_loss'])), history.history['val_relative_l1_loss'], label='val_relative_l1_loss')\n",
    "plt.legend(loc='upper right', fontsize=8)\n",
    "plt.ylim(0, np.max(history.history['relative_l1_loss']))\n",
    "plt.xlabel('epoch', {'size': 14})\n",
    "plt.savefig(r'./loss.png', dpi=600, bbox_inches='tight')\n",
    "plt.show()"
   ],
   "metadata": {
    "execution": {
     "iopub.status.busy": "2022-11-22T01:48:56.510980Z",
     "iopub.execute_input": "2022-11-22T01:48:56.511305Z",
     "iopub.status.idle": "2022-11-22T01:48:56.787352Z",
     "shell.execute_reply.started": "2022-11-22T01:48:56.511276Z",
     "shell.execute_reply": "2022-11-22T01:48:56.785519Z"
    },
    "trusted": true
   },
   "execution_count": 39,
   "outputs": [
    {
     "traceback": [
      "\u001B[0;31m---------------------------------------------------------------------------\u001B[0m",
      "\u001B[0;31mValueError\u001B[0m                                Traceback (most recent call last)",
      "\u001B[0;32m<ipython-input-39-c812586ec352>\u001B[0m in \u001B[0;36m<module>\u001B[0;34m\u001B[0m\n\u001B[1;32m     25\u001B[0m \u001B[0mplt\u001B[0m\u001B[0;34m.\u001B[0m\u001B[0mplot\u001B[0m\u001B[0;34m(\u001B[0m\u001B[0mnp\u001B[0m\u001B[0;34m.\u001B[0m\u001B[0marange\u001B[0m\u001B[0;34m(\u001B[0m\u001B[0mlen\u001B[0m\u001B[0;34m(\u001B[0m\u001B[0mhistory\u001B[0m\u001B[0;34m.\u001B[0m\u001B[0mhistory\u001B[0m\u001B[0;34m[\u001B[0m\u001B[0;34m'val_relative_l1_loss'\u001B[0m\u001B[0;34m]\u001B[0m\u001B[0;34m)\u001B[0m\u001B[0;34m)\u001B[0m\u001B[0;34m,\u001B[0m \u001B[0mhistory\u001B[0m\u001B[0;34m.\u001B[0m\u001B[0mhistory\u001B[0m\u001B[0;34m[\u001B[0m\u001B[0;34m'val_relative_l1_loss'\u001B[0m\u001B[0;34m]\u001B[0m\u001B[0;34m,\u001B[0m \u001B[0mlabel\u001B[0m\u001B[0;34m=\u001B[0m\u001B[0;34m'val_relative_l1_loss'\u001B[0m\u001B[0;34m)\u001B[0m\u001B[0;34m\u001B[0m\u001B[0;34m\u001B[0m\u001B[0m\n\u001B[1;32m     26\u001B[0m \u001B[0mplt\u001B[0m\u001B[0;34m.\u001B[0m\u001B[0mlegend\u001B[0m\u001B[0;34m(\u001B[0m\u001B[0mloc\u001B[0m\u001B[0;34m=\u001B[0m\u001B[0;34m'upper right'\u001B[0m\u001B[0;34m,\u001B[0m \u001B[0mfontsize\u001B[0m\u001B[0;34m=\u001B[0m\u001B[0;36m8\u001B[0m\u001B[0;34m)\u001B[0m\u001B[0;34m\u001B[0m\u001B[0;34m\u001B[0m\u001B[0m\n\u001B[0;32m---> 27\u001B[0;31m \u001B[0mplt\u001B[0m\u001B[0;34m.\u001B[0m\u001B[0mylim\u001B[0m\u001B[0;34m(\u001B[0m\u001B[0;36m0\u001B[0m\u001B[0;34m,\u001B[0m \u001B[0mnp\u001B[0m\u001B[0;34m.\u001B[0m\u001B[0mmax\u001B[0m\u001B[0;34m(\u001B[0m\u001B[0mhistory\u001B[0m\u001B[0;34m.\u001B[0m\u001B[0mhistory\u001B[0m\u001B[0;34m[\u001B[0m\u001B[0;34m'relative_l1_loss'\u001B[0m\u001B[0;34m]\u001B[0m\u001B[0;34m)\u001B[0m\u001B[0;34m)\u001B[0m\u001B[0;34m\u001B[0m\u001B[0;34m\u001B[0m\u001B[0m\n\u001B[0m\u001B[1;32m     28\u001B[0m \u001B[0mplt\u001B[0m\u001B[0;34m.\u001B[0m\u001B[0mxlabel\u001B[0m\u001B[0;34m(\u001B[0m\u001B[0;34m'epoch'\u001B[0m\u001B[0;34m,\u001B[0m \u001B[0;34m{\u001B[0m\u001B[0;34m'size'\u001B[0m\u001B[0;34m:\u001B[0m \u001B[0;36m14\u001B[0m\u001B[0;34m}\u001B[0m\u001B[0;34m)\u001B[0m\u001B[0;34m\u001B[0m\u001B[0;34m\u001B[0m\u001B[0m\n\u001B[1;32m     29\u001B[0m \u001B[0mplt\u001B[0m\u001B[0;34m.\u001B[0m\u001B[0msavefig\u001B[0m\u001B[0;34m(\u001B[0m\u001B[0;34mr'./loss.png'\u001B[0m\u001B[0;34m,\u001B[0m \u001B[0mdpi\u001B[0m\u001B[0;34m=\u001B[0m\u001B[0;36m600\u001B[0m\u001B[0;34m,\u001B[0m \u001B[0mbbox_inches\u001B[0m\u001B[0;34m=\u001B[0m\u001B[0;34m'tight'\u001B[0m\u001B[0;34m)\u001B[0m\u001B[0;34m\u001B[0m\u001B[0;34m\u001B[0m\u001B[0m\n",
      "\u001B[0;32m/opt/conda/lib/python3.7/site-packages/matplotlib/pyplot.py\u001B[0m in \u001B[0;36mylim\u001B[0;34m(*args, **kwargs)\u001B[0m\n\u001B[1;32m   1724\u001B[0m     \u001B[0;32mif\u001B[0m \u001B[0;32mnot\u001B[0m \u001B[0margs\u001B[0m \u001B[0;32mand\u001B[0m \u001B[0;32mnot\u001B[0m \u001B[0mkwargs\u001B[0m\u001B[0;34m:\u001B[0m\u001B[0;34m\u001B[0m\u001B[0;34m\u001B[0m\u001B[0m\n\u001B[1;32m   1725\u001B[0m         \u001B[0;32mreturn\u001B[0m \u001B[0max\u001B[0m\u001B[0;34m.\u001B[0m\u001B[0mget_ylim\u001B[0m\u001B[0;34m(\u001B[0m\u001B[0;34m)\u001B[0m\u001B[0;34m\u001B[0m\u001B[0;34m\u001B[0m\u001B[0m\n\u001B[0;32m-> 1726\u001B[0;31m     \u001B[0mret\u001B[0m \u001B[0;34m=\u001B[0m \u001B[0max\u001B[0m\u001B[0;34m.\u001B[0m\u001B[0mset_ylim\u001B[0m\u001B[0;34m(\u001B[0m\u001B[0;34m*\u001B[0m\u001B[0margs\u001B[0m\u001B[0;34m,\u001B[0m \u001B[0;34m**\u001B[0m\u001B[0mkwargs\u001B[0m\u001B[0;34m)\u001B[0m\u001B[0;34m\u001B[0m\u001B[0;34m\u001B[0m\u001B[0m\n\u001B[0m\u001B[1;32m   1727\u001B[0m     \u001B[0;32mreturn\u001B[0m \u001B[0mret\u001B[0m\u001B[0;34m\u001B[0m\u001B[0;34m\u001B[0m\u001B[0m\n\u001B[1;32m   1728\u001B[0m \u001B[0;34m\u001B[0m\u001B[0m\n",
      "\u001B[0;32m/opt/conda/lib/python3.7/site-packages/matplotlib/axes/_base.py\u001B[0m in \u001B[0;36mset_ylim\u001B[0;34m(self, bottom, top, emit, auto, ymin, ymax)\u001B[0m\n\u001B[1;32m   3851\u001B[0m         \u001B[0mself\u001B[0m\u001B[0;34m.\u001B[0m\u001B[0m_process_unit_info\u001B[0m\u001B[0;34m(\u001B[0m\u001B[0;34m[\u001B[0m\u001B[0;34m(\u001B[0m\u001B[0;34m\"y\"\u001B[0m\u001B[0;34m,\u001B[0m \u001B[0;34m(\u001B[0m\u001B[0mbottom\u001B[0m\u001B[0;34m,\u001B[0m \u001B[0mtop\u001B[0m\u001B[0;34m)\u001B[0m\u001B[0;34m)\u001B[0m\u001B[0;34m]\u001B[0m\u001B[0;34m,\u001B[0m \u001B[0mconvert\u001B[0m\u001B[0;34m=\u001B[0m\u001B[0;32mFalse\u001B[0m\u001B[0;34m)\u001B[0m\u001B[0;34m\u001B[0m\u001B[0;34m\u001B[0m\u001B[0m\n\u001B[1;32m   3852\u001B[0m         \u001B[0mbottom\u001B[0m \u001B[0;34m=\u001B[0m \u001B[0mself\u001B[0m\u001B[0;34m.\u001B[0m\u001B[0m_validate_converted_limits\u001B[0m\u001B[0;34m(\u001B[0m\u001B[0mbottom\u001B[0m\u001B[0;34m,\u001B[0m \u001B[0mself\u001B[0m\u001B[0;34m.\u001B[0m\u001B[0mconvert_yunits\u001B[0m\u001B[0;34m)\u001B[0m\u001B[0;34m\u001B[0m\u001B[0;34m\u001B[0m\u001B[0m\n\u001B[0;32m-> 3853\u001B[0;31m         \u001B[0mtop\u001B[0m \u001B[0;34m=\u001B[0m \u001B[0mself\u001B[0m\u001B[0;34m.\u001B[0m\u001B[0m_validate_converted_limits\u001B[0m\u001B[0;34m(\u001B[0m\u001B[0mtop\u001B[0m\u001B[0;34m,\u001B[0m \u001B[0mself\u001B[0m\u001B[0;34m.\u001B[0m\u001B[0mconvert_yunits\u001B[0m\u001B[0;34m)\u001B[0m\u001B[0;34m\u001B[0m\u001B[0;34m\u001B[0m\u001B[0m\n\u001B[0m\u001B[1;32m   3854\u001B[0m \u001B[0;34m\u001B[0m\u001B[0m\n\u001B[1;32m   3855\u001B[0m         \u001B[0;32mif\u001B[0m \u001B[0mbottom\u001B[0m \u001B[0;32mis\u001B[0m \u001B[0;32mNone\u001B[0m \u001B[0;32mor\u001B[0m \u001B[0mtop\u001B[0m \u001B[0;32mis\u001B[0m \u001B[0;32mNone\u001B[0m\u001B[0;34m:\u001B[0m\u001B[0;34m\u001B[0m\u001B[0;34m\u001B[0m\u001B[0m\n",
      "\u001B[0;32m/opt/conda/lib/python3.7/site-packages/matplotlib/axes/_base.py\u001B[0m in \u001B[0;36m_validate_converted_limits\u001B[0;34m(self, limit, convert)\u001B[0m\n\u001B[1;32m   3441\u001B[0m             if (isinstance(converted_limit, Real)\n\u001B[1;32m   3442\u001B[0m                     and not np.isfinite(converted_limit)):\n\u001B[0;32m-> 3443\u001B[0;31m                 \u001B[0;32mraise\u001B[0m \u001B[0mValueError\u001B[0m\u001B[0;34m(\u001B[0m\u001B[0;34m\"Axis limits cannot be NaN or Inf\"\u001B[0m\u001B[0;34m)\u001B[0m\u001B[0;34m\u001B[0m\u001B[0;34m\u001B[0m\u001B[0m\n\u001B[0m\u001B[1;32m   3444\u001B[0m             \u001B[0;32mreturn\u001B[0m \u001B[0mconverted_limit\u001B[0m\u001B[0;34m\u001B[0m\u001B[0;34m\u001B[0m\u001B[0m\n\u001B[1;32m   3445\u001B[0m \u001B[0;34m\u001B[0m\u001B[0m\n",
      "\u001B[0;31mValueError\u001B[0m: Axis limits cannot be NaN or Inf"
     ],
     "ename": "ValueError",
     "evalue": "Axis limits cannot be NaN or Inf",
     "output_type": "error"
    },
    {
     "output_type": "display_data",
     "data": {
      "text/plain": "<Figure size 491.76x216 with 2 Axes>",
      "image/png": "[encoded data removed]"
     },
     "metadata": {
      "needs_background": "light"
     }
    }
   ]
  },
  {
   "cell_type": "code",
   "source": [
    "Predictions = model.predict(x_test)\n",
    "\n",
    "with h5py.File('Sw.h5', 'w') as f:\n",
    "    f.create_dataset('Sw', data=Predictions, compression='gzip') \n",
    "    \n",
    "# with h5py.File('Pressure.h5', 'w') as f:\n",
    "#     f.create_dataset('Pressure', data=Predictions, compression='gzip') "
   ],
   "metadata": {
    "execution": {
     "iopub.status.busy": "2022-11-22T01:35:50.986851Z",
     "iopub.execute_input": "2022-11-22T01:35:50.987185Z",
     "iopub.status.idle": "2022-11-22T01:35:53.587973Z",
     "shell.execute_reply.started": "2022-11-22T01:35:50.987155Z",
     "shell.execute_reply": "2022-11-22T01:35:53.586997Z"
    },
    "trusted": true
   },
   "execution_count": 29,
   "outputs": []
  },
  {
   "cell_type": "code",
   "source": [
    "#  残差学习画图\n",
    "column = Predictions.shape[1]\n",
    "m = np.random.randint(0, Predictions.shape[0])\n",
    "print(m)\n",
    "\n",
    "fig = plt.figure(figsize=(1.65*column, 3.2))\n",
    "for i in range(column):\n",
    "    if i==0:\n",
    "        ax = fig.add_subplot(3, column, i+1)\n",
    "        sc = ax.imshow(y_test[m, i]+initial[m, i], cmap='jet')\n",
    "        ax.set_xticks([])\n",
    "        ax.set_yticks([])\n",
    "        ax.set_ylabel('$S_w$', {'family': 'Arial', 'weight': 'bold', 'size': 8})\n",
    "        plt.colorbar(sc)\n",
    "\n",
    "        ax = fig.add_subplot(3, column, column+i+1)\n",
    "        sc = ax.imshow(Predictions[m, i]+initial[m, i], cmap='jet')\n",
    "        ax.set_xticks([])\n",
    "        ax.set_yticks([])\n",
    "        ax.set_ylabel('$\\hat{S_w}$', {'family': 'Arial', 'weight': 'bold', 'size': 8})\n",
    "        plt.colorbar(sc)\n",
    "\n",
    "        ax = fig.add_subplot(3, column, 2*column +i+1)\n",
    "        sc = ax.imshow(y_test[m, i]-Predictions[m, i], cmap='jet')\n",
    "        ax.set_xticks([])\n",
    "        ax.set_yticks([])\n",
    "        ax.set_xlabel('Step {}'.format(i+1), {'family': 'Arial', 'weight': 'bold', 'size': 8})\n",
    "        ax.set_ylabel('$S_w-\\hat{S_w}$', {'family': 'Arial', 'weight': 'bold', 'size': 8})\n",
    "        plt.colorbar(sc)\n",
    "        \n",
    "    else:\n",
    "        ax = fig.add_subplot(3, column, i+1)\n",
    "        sc = ax.imshow(y_test[m, i]+initial[m, i], cmap='jet')\n",
    "        ax.set_xticks([])\n",
    "        ax.set_yticks([])\n",
    "        plt.colorbar(sc)\n",
    "\n",
    "        ax = fig.add_subplot(3, column, column+i+1)\n",
    "        sc = ax.imshow(Predictions[m, i]+initial[m, i], cmap='jet')\n",
    "        ax.set_xticks([])\n",
    "        ax.set_yticks([])\n",
    "        plt.colorbar(sc)\n",
    "\n",
    "        ax = fig.add_subplot(3, column, 2*column +i+1)\n",
    "        sc = ax.imshow(y_test[m, i]-Predictions[m, i], cmap='jet')\n",
    "        ax.set_xticks([])\n",
    "        ax.set_yticks([])\n",
    "        ax.set_xlabel('Step {}'.format(i+1), {'family': 'Arial', 'weight': 'bold', 'size': 8})\n",
    "        plt.colorbar(sc)\n",
    "        \n",
    "plt.savefig('Image.png', dpi=600, bbox_inches='tight')\n",
    "plt.show()"
   ],
   "metadata": {
    "execution": {
     "iopub.status.busy": "2022-11-22T01:46:53.214908Z",
     "iopub.execute_input": "2022-11-22T01:46:53.215240Z",
     "iopub.status.idle": "2022-11-22T01:46:59.366381Z",
     "shell.execute_reply.started": "2022-11-22T01:46:53.215210Z",
     "shell.execute_reply": "2022-11-22T01:46:59.365516Z"
    },
    "trusted": true
   },
   "execution_count": 38,
   "outputs": [
    {
     "name": "stdout",
     "text": "15\n",
     "output_type": "stream"
    },
    {
     "output_type": "display_data",
     "data": {
      "text/plain": "<Figure size 1188x230.4 with 60 Axes>",
      "image/png": "[encoded data removed]"
     },
     "metadata": {
      "needs_background": "light"
     }
    }
   ]
  },
  {
   "cell_type": "code",
   "source": [
    "# column = Predictions.shape[1]\n",
    "# m = np.random.randint(0, Predictions.shape[0])\n",
    "# print(m)\n",
    "\n",
    "# fig = plt.figure(figsize=(1.65*column, 3.2))\n",
    "# for i in range(column):\n",
    "#     if i==0:\n",
    "#         ax = fig.add_subplot(3, column, i+1)\n",
    "#         sc = ax.imshow(y_test[m, i], cmap='jet')\n",
    "#         ax.set_xticks([])\n",
    "#         ax.set_yticks([])\n",
    "#         ax.set_ylabel('$S_w$', {'family': 'Arial', 'weight': 'bold', 'size': 8})\n",
    "#         plt.colorbar(sc)\n",
    "\n",
    "#         ax = fig.add_subplot(3, column, column+i+1)\n",
    "#         sc = ax.imshow(Predictions[m, i], cmap='jet')\n",
    "#         ax.set_xticks([])\n",
    "#         ax.set_yticks([])\n",
    "#         ax.set_ylabel('$\\hat{S_w}$', {'family': 'Arial', 'weight': 'bold', 'size': 8})\n",
    "#         plt.colorbar(sc)\n",
    "\n",
    "#         ax = fig.add_subplot(3, column, 2*column +i+1)\n",
    "#         sc = ax.imshow(y_test[m, i]-Predictions[m, i], cmap='jet')\n",
    "#         ax.set_xticks([])\n",
    "#         ax.set_yticks([])\n",
    "#         ax.set_xlabel('Step {}'.format(i+1), {'family': 'Arial', 'weight': 'bold', 'size': 8})\n",
    "#         ax.set_ylabel('$S_w-\\hat{S_w}$', {'family': 'Arial', 'weight': 'bold', 'size': 8})\n",
    "#         plt.colorbar(sc)\n",
    "        \n",
    "#     else:\n",
    "#         ax = fig.add_subplot(3, column, i+1)\n",
    "#         sc = ax.imshow(y_test[m, i], cmap='jet')\n",
    "#         ax.set_xticks([])\n",
    "#         ax.set_yticks([])\n",
    "#         plt.colorbar(sc)\n",
    "\n",
    "#         ax = fig.add_subplot(3, column, column+i+1)\n",
    "#         sc = ax.imshow(Predictions[m, i], cmap='jet')\n",
    "#         ax.set_xticks([])\n",
    "#         ax.set_yticks([])\n",
    "#         plt.colorbar(sc)\n",
    "\n",
    "#         ax = fig.add_subplot(3, column, 2*column +i+1)\n",
    "#         sc = ax.imshow(y_test[m, i]-Predictions[m, i], cmap='jet')\n",
    "#         ax.set_xticks([])\n",
    "#         ax.set_yticks([])\n",
    "#         ax.set_xlabel('Step {}'.format(i+1), {'family': 'Arial', 'weight': 'bold', 'size': 8})\n",
    "#         plt.colorbar(sc)\n",
    "        \n",
    "# plt.savefig('Image.png', dpi=600, bbox_inches='tight')\n",
    "# plt.show()"
   ],
   "metadata": {
    "execution": {
     "iopub.status.busy": "2022-11-22T01:33:32.590058Z",
     "iopub.status.idle": "2022-11-22T01:33:32.590783Z"
    },
    "trusted": true
   },
   "execution_count": null,
   "outputs": []
  }
 ]
}
